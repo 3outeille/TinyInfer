{
 "cells": [
  {
   "cell_type": "code",
   "execution_count": 1,
   "metadata": {},
   "outputs": [
    {
     "name": "stderr",
     "output_type": "stream",
     "text": [
      "Using TensorFlow backend.\n"
     ]
    },
    {
     "data": {
      "text/plain": [
       "0"
      ]
     },
     "execution_count": 1,
     "metadata": {},
     "output_type": "execute_result"
    }
   ],
   "source": [
    "\"\"\"\n",
    "The main file for training\n",
    "Build and train the CNN network with tensorflow keras\n",
    "freeze the model and save to disk (in tensorflow pb[protobuf] file format)\n",
    "\n",
    "Note: the file also saves I/O data and intermedian layer output to the disk (via JSON)\n",
    "\"\"\"\n",
    "\n",
    "from keras.models import Sequential, Model\n",
    "from keras.layers import Dense, Flatten, Dropout, Conv2D, MaxPooling2D\n",
    "import tensorflow as tf\n",
    "import numpy as np\n",
    "np.random.seed(0)\n",
    "\n",
    "import matplotlib.pyplot as plt\n",
    "\n",
    "from keras import backend as K\n",
    "\n",
    "import os.path\n",
    "import json\n",
    "# parameter ==========================\n",
    "wkdir = '../../data'\n",
    "pb_filename = 'model.pb'\n",
    "pbtxt_filename = 'model.pbtxt'\n",
    "\n",
    "os.system(\"mkdir -p \" + wkdir)\n",
    "\n",
    "# IO_data\n",
    "io_data_dir = os.path.join(wkdir, \"io_data\")\n",
    "os.system(\"mkdir -p \" + io_data_dir)\n",
    "\n",
    "minst_data_dir = os.path.join(wkdir, \"minst_data\")\n",
    "os.system(\"mkdir -p \" + minst_data_dir)"
   ]
  },
  {
   "cell_type": "code",
   "execution_count": 2,
   "metadata": {},
   "outputs": [],
   "source": [
    "# helper function for saving np array\n",
    "def save_np_array(tensor_np, filename):\n",
    "    result = {}\n",
    "    result['shape'] = tensor_np.shape\n",
    "    result['tensor_content'] = []\n",
    "    \n",
    "    # iterate throught the tensor\n",
    "    for i, x in enumerate(np.nditer(tensor_np)):\n",
    "        result['tensor_content'].append(x.item())\n",
    "        \n",
    "    # save to file\n",
    "    with open(filename, 'w') as outfile:  \n",
    "        json.dump(result, outfile)\n",
    "        print(\"Tensor saved to: \" + filename)"
   ]
  },
  {
   "cell_type": "code",
   "execution_count": 3,
   "metadata": {},
   "outputs": [
    {
     "name": "stdout",
     "output_type": "stream",
     "text": [
      "Tensor saved to: ../../data/minst_data/x_test.tensor\n",
      "Tensor saved to: ../../data/minst_data/y_test.tensor\n",
      "channel_last\n",
      "WARNING:tensorflow:From /home/ernest/anaconda3/envs/cpu_env/lib/python3.7/site-packages/tensorflow/python/framework/op_def_library.py:263: colocate_with (from tensorflow.python.framework.ops) is deprecated and will be removed in a future version.\n",
      "Instructions for updating:\n",
      "Colocations handled automatically by placer.\n",
      "WARNING:tensorflow:From /home/ernest/anaconda3/envs/cpu_env/lib/python3.7/site-packages/keras/backend/tensorflow_backend.py:3445: calling dropout (from tensorflow.python.ops.nn_ops) with keep_prob is deprecated and will be removed in a future version.\n",
      "Instructions for updating:\n",
      "Please use `rate` instead of `keep_prob`. Rate should be set to `rate = 1 - keep_prob`.\n",
      "model IO\n",
      "[<tf.Tensor 'conv2d_1_input:0' shape=(?, 28, 28, 1) dtype=float32>]\n",
      "[<tf.Tensor 'dense_2/Softmax:0' shape=(?, 10) dtype=float32>]\n",
      "WARNING:tensorflow:From /home/ernest/anaconda3/envs/cpu_env/lib/python3.7/site-packages/tensorflow/python/ops/math_ops.py:3066: to_int32 (from tensorflow.python.ops.math_ops) is deprecated and will be removed in a future version.\n",
      "Instructions for updating:\n",
      "Use tf.cast instead.\n",
      "Epoch 1/1\n",
      "60000/60000 [==============================] - 101s 2ms/step - loss: 0.1843 - acc: 0.9439\n",
      "10000/10000 [==============================] - 3s 256us/step\n"
     ]
    }
   ],
   "source": [
    "# build a keras model ================\n",
    "# MNIST CNN\n",
    "mnist = tf.keras.datasets.mnist\n",
    "\n",
    "(x_train, y_train),(x_test, y_test) = mnist.load_data()\n",
    "x_train, x_test = x_train / 255.0, x_test / 255.0\n",
    "\n",
    "# Save the I/O data\n",
    "save_np_array(x_test, os.path.join(minst_data_dir, \"x_test.tensor\"))\n",
    "save_np_array(y_test, os.path.join(minst_data_dir, \"y_test.tensor\"))\n",
    "\n",
    "# model = tf.keras.models.Sequential([\n",
    "#   tf.keras.layers.Flatten(input_shape=(28, 28)),\n",
    "#   tf.keras.layers.Dense(512, activation=tf.nn.relu),\n",
    "#   # tf.keras.layers.Dropout(0.2),\n",
    "#   tf.keras.layers.Dense(10, activation=tf.nn.softmax)\n",
    "# ])\n",
    "\n",
    "# Dense Model\n",
    "# model = Sequential()\n",
    "# model.add(Flatten(input_shape=(28, 28)))\n",
    "# model.add(Dense(units = 512, activation ='relu'))\n",
    "# model.add(Dropout(0.2))\n",
    "# model.add(Dense(10, activation=tf.nn.softmax))\n",
    "\n",
    "# CNN Model\n",
    "# image data format compability\n",
    "# input image dimensions\n",
    "img_rows, img_cols = 28, 28\n",
    "\n",
    "if K.image_data_format() == 'channels_first':\n",
    "    print('channels_first')\n",
    "    x_train = x_train.reshape(x_train.shape[0], 1, img_rows, img_cols)\n",
    "    x_test = x_test.reshape(x_test.shape[0], 1, img_rows, img_cols)\n",
    "    input_shape = (1, img_rows, img_cols)\n",
    "else:\n",
    "    print('channel_last')\n",
    "    x_train = x_train.reshape(x_train.shape[0], img_rows, img_cols, 1)\n",
    "    x_test = x_test.reshape(x_test.shape[0], img_rows, img_cols, 1)\n",
    "    input_shape = (img_rows, img_cols, 1)\n",
    "\n",
    "# The model (CNN)\n",
    "# TODO: avoid name \n",
    "model = Sequential()\n",
    "model.add(Conv2D(32, kernel_size=(3, 3),\n",
    "                 activation='relu',\n",
    "                 input_shape=input_shape, name=\"conv2d_1\"))\n",
    "model.add(Conv2D(64, (3, 3), activation='relu', name=\"conv2d_2\"))\n",
    "model.add(MaxPooling2D(pool_size=(2, 2), name=\"max_pooling2d_1\"))\n",
    "model.add(Dropout(0.25, name=\"dropout_1\"))\n",
    "model.add(Flatten(name=\"flatten_1\"))\n",
    "model.add(Dense(128, activation='relu', name=\"dense_1\"))\n",
    "model.add(Dropout(0.5, name=\"dropout_2\"))\n",
    "model.add(Dense(10, activation='softmax', name=\"dense_2\"))\n",
    "\n",
    "print(\"model IO\")\n",
    "print(model.inputs)\n",
    "print(model.outputs)\n",
    "\n",
    "model.compile(optimizer='Adam',\n",
    "              loss='sparse_categorical_crossentropy',\n",
    "              metrics=['accuracy'])\n",
    "\n",
    "model.fit(x_train, y_train, epochs=1)\n",
    "model.evaluate(x_test, y_test)\n",
    "predictions_1 = model.predict(x_test[0:10000, :, :, :])"
   ]
  },
  {
   "cell_type": "code",
   "execution_count": 4,
   "metadata": {},
   "outputs": [
    {
     "name": "stdout",
     "output_type": "stream",
     "text": [
      "Tensor saved to: ../../data/io_data/input.tensor\n",
      "(100, 28, 28, 1)\n",
      "Tensor saved to: ../../data/io_data/conv2d_1_output\n",
      "(100, 26, 26, 32)\n",
      "Tensor saved to: ../../data/io_data/conv2d_2_output\n",
      "(100, 24, 24, 64)\n",
      "Tensor saved to: ../../data/io_data/flatten_1_output\n",
      "(100, 9216)\n",
      "Tensor saved to: ../../data/io_data/max_pooling2d_1_output\n",
      "(100, 12, 12, 64)\n",
      "Tensor saved to: ../../data/io_data/dense_1_output\n",
      "(100, 128)\n",
      "Tensor saved to: ../../data/io_data/dense_2_output\n",
      "(100, 10)\n",
      "Tensor saved to: ../../data/io_data/dropout_1_output\n",
      "(100, 12, 12, 64)\n",
      "Tensor saved to: ../../data/io_data/dropout_2_output\n",
      "(100, 128)\n"
     ]
    }
   ],
   "source": [
    "# Save intermedia layers to disk\n",
    "batch_size = 100\n",
    "\n",
    "# save the input\n",
    "save_np_array(x_test[0:batch_size], os.path.join(io_data_dir, \"input.tensor\"))\n",
    "print(x_test[0:batch_size].shape)\n",
    "\n",
    "# save the output of intermedian layers\n",
    "intermedian_layer_names = [\"conv2d_1\", \"conv2d_2\", \"flatten_1\", \"max_pooling2d_1\", \"dense_1\", \"dense_2\", \"dropout_1\", \"dropout_2\"]\n",
    "for layer_name in intermedian_layer_names:\n",
    "    model_intermedian = Model(inputs=model.input,\n",
    "                                     outputs=model.get_layer(layer_name).output)\n",
    "    intermedian_output = model_intermedian.predict(x_test[0:batch_size])\n",
    "    save_np_array(intermedian_output, os.path.join(io_data_dir, layer_name + \"_output\"))\n",
    "    print(intermedian_output.shape)"
   ]
  },
  {
   "cell_type": "code",
   "execution_count": null,
   "metadata": {},
   "outputs": [],
   "source": []
  },
  {
   "cell_type": "code",
   "execution_count": 5,
   "metadata": {},
   "outputs": [
    {
     "name": "stdout",
     "output_type": "stream",
     "text": [
      "WARNING:tensorflow:From <ipython-input-5-4828c0e466b5>:28: convert_variables_to_constants (from tensorflow.python.framework.graph_util_impl) is deprecated and will be removed in a future version.\n",
      "Instructions for updating:\n",
      "Use tf.compat.v1.graph_util.convert_variables_to_constants\n",
      "WARNING:tensorflow:From /home/ernest/anaconda3/envs/cpu_env/lib/python3.7/site-packages/tensorflow/python/framework/graph_util_impl.py:245: extract_sub_graph (from tensorflow.python.framework.graph_util_impl) is deprecated and will be removed in a future version.\n",
      "Instructions for updating:\n",
      "Use tf.compat.v1.graph_util.extract_sub_graph\n",
      "INFO:tensorflow:Froze 37 variables.\n",
      "INFO:tensorflow:Converted 37 variables to const ops.\n"
     ]
    },
    {
     "data": {
      "text/plain": [
       "'../../data/model.pbtxt'"
      ]
     },
     "execution_count": 5,
     "metadata": {},
     "output_type": "execute_result"
    }
   ],
   "source": [
    "# save model to pb ====================\n",
    "def freeze_session(session, keep_var_names=None, output_names=None, clear_devices=True):\n",
    "    \"\"\"\n",
    "    Freezes the state of a session into a pruned computation graph.\n",
    "\n",
    "    Creates a new computation graph where variable nodes are replaced by\n",
    "    constants taking their current value in the session. The new graph will be\n",
    "    pruned so subgraphs that are not necessary to compute the requested\n",
    "    outputs are removed.\n",
    "    @param session The TensorFlow session to be frozen.\n",
    "    @param keep_var_names A list of variable names that should not be frozen,\n",
    "                          or None to freeze all the variables in the graph.\n",
    "    @param output_names Names of the relevant graph outputs.\n",
    "    @param clear_devices Remove the device directives from the graph for better portability.\n",
    "    @return The frozen graph definition.\n",
    "    \"\"\"\n",
    "    from tensorflow.python.framework.graph_util import convert_variables_to_constants\n",
    "    graph = session.graph\n",
    "    with graph.as_default():\n",
    "        freeze_var_names = list(set(v.op.name for v in tf.global_variables()).difference(keep_var_names or []))\n",
    "        output_names = output_names or []\n",
    "        output_names += [v.op.name for v in tf.global_variables()]\n",
    "        input_graph_def = graph.as_graph_def()\n",
    "        if clear_devices:\n",
    "            for node in input_graph_def.node:\n",
    "                node.device = \"\"\n",
    "        frozen_graph = convert_variables_to_constants(session, input_graph_def,\n",
    "                                                      output_names, freeze_var_names)\n",
    "        return frozen_graph\n",
    "\n",
    "# save keras model as tf pb files ===============\n",
    "from keras import backend as K\n",
    "frozen_graph = freeze_session(K.get_session(),\n",
    "                              output_names=[out.op.name for out in model.outputs])\n",
    "\n",
    "tf.train.write_graph(frozen_graph, wkdir, pb_filename, as_text=False)\n",
    "tf.train.write_graph(frozen_graph, wkdir, pbtxt_filename, as_text=True)"
   ]
  },
  {
   "cell_type": "code",
   "execution_count": 6,
   "metadata": {},
   "outputs": [
    {
     "name": "stdout",
     "output_type": "stream",
     "text": [
      "WARNING:tensorflow:From <ipython-input-6-60aaa9959f41>:6: FastGFile.__init__ (from tensorflow.python.platform.gfile) is deprecated and will be removed in a future version.\n",
      "Instructions for updating:\n",
      "Use tf.gfile.GFile.\n",
      "\n",
      "===== output predicted results =====\n",
      "\n",
      "[[2.20165504e-07 1.15751945e-07 2.66665029e-06 1.65552174e-05\n",
      "  5.14235801e-08 7.08691061e-08 3.54296176e-11 9.99978781e-01\n",
      "  5.92899809e-08 1.57456350e-06]\n",
      " [7.70493294e-04 2.29277339e-05 9.99186218e-01 9.89204068e-07\n",
      "  1.91620165e-06 8.44288972e-10 1.94095765e-06 3.94629076e-08\n",
      "  1.55837588e-05 7.51406493e-09]\n",
      " [1.91574986e-06 9.99849439e-01 1.65696420e-05 1.01105070e-06\n",
      "  4.20706056e-05 6.93344532e-07 1.50988071e-05 6.29765927e-05\n",
      "  8.97911559e-06 1.33981928e-06]\n",
      " [9.99963522e-01 2.05095239e-06 5.25713403e-07 4.69118966e-08\n",
      "  5.92235551e-07 2.15531782e-06 2.33086666e-05 3.85988687e-06\n",
      "  3.10583096e-06 9.35521825e-07]\n",
      " [1.11706441e-07 6.07428660e-07 1.13154295e-08 2.21711677e-10\n",
      "  9.99974728e-01 1.75845098e-08 3.56580614e-08 1.29812790e-07\n",
      "  1.15449183e-07 2.43663308e-05]\n",
      " [7.03135697e-07 9.99920964e-01 4.74806575e-06 2.31668622e-07\n",
      "  2.48886918e-05 9.96638576e-08 2.28740782e-06 4.05295759e-05\n",
      "  4.63872721e-06 8.20588923e-07]\n",
      " [3.36055962e-07 4.32761182e-04 3.25489464e-06 9.13351926e-07\n",
      "  9.94131744e-01 7.43432756e-05 3.82474582e-06 5.41579675e-06\n",
      "  4.53748275e-03 8.09866353e-04]\n",
      " [1.06400339e-05 1.34071752e-06 1.93014985e-05 9.57105385e-07\n",
      "  2.59558600e-03 1.90031176e-04 8.67198821e-07 2.11294287e-06\n",
      "  1.11499953e-03 9.96064126e-01]\n",
      " [1.94695516e-04 4.52017548e-06 6.67171480e-06 1.45224408e-06\n",
      "  3.19491606e-04 9.00836289e-01 8.39466006e-02 3.81429845e-06\n",
      "  8.99451505e-03 5.69186686e-03]\n",
      " [7.29311353e-07 5.16098133e-08 2.77446503e-07 3.94173412e-07\n",
      "  2.66594521e-04 7.01153476e-06 4.22644213e-08 4.72186279e-04\n",
      "  9.12240212e-05 9.99161482e-01]]\n",
      "5\n"
     ]
    }
   ],
   "source": [
    "# # load & inference the model ==================\n",
    "\n",
    "from tensorflow.python.platform import gfile\n",
    "with tf.Session() as sess:\n",
    "    # load model from pb file\n",
    "    with gfile.FastGFile(wkdir+'/'+pb_filename,'rb') as f:\n",
    "        graph_def = tf.GraphDef()\n",
    "        graph_def.ParseFromString(f.read())\n",
    "        sess.graph.as_default()\n",
    "        g_in = tf.import_graph_def(graph_def)\n",
    "    # write to tensorboard (check tensorboard for each op names)\n",
    "    writer = tf.summary.FileWriter(wkdir+'/log/')\n",
    "    writer.add_graph(sess.graph)\n",
    "    writer.flush()\n",
    "    writer.close()\n",
    "    # print all operation names \n",
    "#     print('\\n===== ouptut operation names =====\\n')\n",
    "#     for op in sess.graph.get_operations():\n",
    "#       print(op)\n",
    "    # inference by the model (op name must comes with :0 to specify the index of its output)\n",
    "    # tensor_output = sess.graph.get_tensor_by_name('import/dense_3/Sigmoid:0')\n",
    "    # tensor_input = sess.graph.get_tensor_by_name('import/dense_1_input:0')\n",
    "    tensor_output = sess.graph.get_tensor_by_name('import/dense_2/Softmax:0')\n",
    "    tensor_input = sess.graph.get_tensor_by_name('import/conv2d_1_input:0')\n",
    "    predictions = sess.run(tensor_output, {tensor_input: x_test[0:10,:,:,:]})\n",
    "    print('\\n===== output predicted results =====\\n')\n",
    "    print(predictions)\n",
    "    print(np.argmax(predictions[8]))"
   ]
  },
  {
   "cell_type": "code",
   "execution_count": 7,
   "metadata": {},
   "outputs": [
    {
     "data": {
      "text/plain": [
       "5"
      ]
     },
     "execution_count": 7,
     "metadata": {},
     "output_type": "execute_result"
    },
    {
     "data": {
      "image/png": "[encoded data removed]",
      "text/plain": [
       "<Figure size 432x288 with 1 Axes>"
      ]
     },
     "metadata": {
      "needs_background": "light"
     },
     "output_type": "display_data"
    }
   ],
   "source": [
    "# visualize the prediction\n",
    "prediction_num = 8\n",
    "prediction = model.predict(x_test[0:10, :, :, :])\n",
    "plt.imshow(x_test[prediction_num,:,:,0])\n",
    "np.argmax(predictions[prediction_num])"
   ]
  },
  {
   "cell_type": "code",
   "execution_count": null,
   "metadata": {},
   "outputs": [],
   "source": []
  },
  {
   "cell_type": "code",
   "execution_count": null,
   "metadata": {},
   "outputs": [],
   "source": []
  },
  {
   "cell_type": "code",
   "execution_count": null,
   "metadata": {},
   "outputs": [],
   "source": []
  }
 ],
 "metadata": {
  "kernelspec": {
   "display_name": "Python 3",
   "language": "python",
   "name": "python3"
  },
  "language_info": {
   "codemirror_mode": {
    "name": "ipython",
    "version": 3
   },
   "file_extension": ".py",
   "mimetype": "text/x-python",
   "name": "python",
   "nbconvert_exporter": "python",
   "pygments_lexer": "ipython3",
   "version": "3.7.3"
  }
 },
 "nbformat": 4,
 "nbformat_minor": 2
}
